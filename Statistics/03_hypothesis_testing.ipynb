{
 "cells": [
  {
   "cell_type": "markdown",
   "metadata": {},
   "source": [
    "Z test -> Hypothesis Technique"
   ]
  },
  {
   "cell_type": "markdown",
   "metadata": {},
   "source": [
    "Problem Statement\n",
    "A manufacturer claims that the mean weight of a batch of products is 50 grams. A quality control inspector takes a random sample of 10 products from the batch and measures their weights. Use both a Z-test (assuming the population standard deviation is known) and a T-test (assuming the population standard deviation is unknown) to determine if the mean weight of the products is significantly different from the claimed mean of 50 grams.\n",
    "Assume -> Significane value = 0.05\n",
    "\n",
    "Sample Data\n",
    "Weights of the products (in grams):\n",
    "[49.5,50.2,50.1,49.8,50.0,49.7,50.3,49.9,50.4,49.6]\n",
    "Claimed mean weight: 50 grams"
   ]
  },
  {
   "cell_type": "code",
   "execution_count": 1,
   "metadata": {},
   "outputs": [
    {
     "data": {
      "text/plain": [
       "(-0.5222329678670647, 0.6015081344406099)"
      ]
     },
     "execution_count": 1,
     "metadata": {},
     "output_type": "execute_result"
    }
   ],
   "source": [
    "from statsmodels.stats.weightstats import ztest as ztest\n",
    "\n",
    "data = [49.5,50.2,50.1,49.8,50.0,49.7,50.3,49.9,50.4,49.6]\n",
    "ztest(data, value=50)\n"
   ]
  },
  {
   "cell_type": "markdown",
   "metadata": {},
   "source": [
    "In the output there are two values the first one is the z-score value and the second one is the p-value and if the p-value < significance value, then we reject the null hypothesis, else we fail to reject null hypothesis.\n",
    "\n",
    "Here the p-value > significance value, Accept the null hypothesis."
   ]
  },
  {
   "cell_type": "code",
   "execution_count": 2,
   "metadata": {},
   "outputs": [],
   "source": []
  },
  {
   "cell_type": "code",
   "execution_count": null,
   "metadata": {},
   "outputs": [],
   "source": []
  }
 ],
 "metadata": {
  "kernelspec": {
   "display_name": "base",
   "language": "python",
   "name": "python3"
  },
  "language_info": {
   "codemirror_mode": {
    "name": "ipython",
    "version": 3
   },
   "file_extension": ".py",
   "mimetype": "text/x-python",
   "name": "python",
   "nbconvert_exporter": "python",
   "pygments_lexer": "ipython3",
   "version": "3.11.3"
  }
 },
 "nbformat": 4,
 "nbformat_minor": 2
}
